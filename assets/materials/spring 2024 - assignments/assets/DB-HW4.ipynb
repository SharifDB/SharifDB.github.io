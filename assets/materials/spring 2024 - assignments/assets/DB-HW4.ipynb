{
 "cells": [
  {
   "cell_type": "markdown",
   "id": "7c6492a3",
   "metadata": {},
   "source": [
    "<img src=\"./sharif.png\" alt=\"SUT logo\" width=300 height=300 align=left class=\"saturate\">\n",
    "\n",
    "<br>\n",
    "<font>\n",
    "<div dir=ltr align=center>\n",
    "<font color=0F5298 size=7>\n",
    "    Database Design <br>\n",
    "<font color=2565AE size=5>\n",
    "    CE Department <br>\n",
    "    Spring 2024 - Dr. Maryam Ramezani<br>\n",
    "<font color=3C99D size=5>\n",
    "    HW4 Practical<br>\n",
    "<font color=696880 size=4>\n",
    "    Shahab Hosseini - Arshia Dadras - Amirmahdi Daraei - Helia Akhtarkavian - Shayan Shabani\n",
    "\n",
    "____"
   ]
  },
  {
   "cell_type": "markdown",
   "id": "8c305a95",
   "metadata": {},
   "source": [
    "# Personal Data"
   ]
  },
  {
   "cell_type": "code",
   "execution_count": 1,
   "id": "e0c21291",
   "metadata": {},
   "outputs": [],
   "source": [
    "Name = ''\n",
    "Student_Number = ''"
   ]
  },
  {
   "cell_type": "markdown",
   "id": "ed27b66c",
   "metadata": {},
   "source": [
    "# Introduction\n",
    "In this assignment, you will work with a dataset to practice your skills in MongoDB and PyMongo. The dataset will be provided in JSON format, and your task is to import the data into a MongoDB collection and perform a series of queries to extract meaningful information. This assignment will help you understand how to interact with MongoDB using Python, execute various queries, and analyze the results. "
   ]
  },
  {
   "cell_type": "markdown",
   "id": "e9bd2fa2",
   "metadata": {},
   "source": [
    "# Import Library"
   ]
  },
  {
   "cell_type": "code",
   "execution_count": null,
   "id": "4edf707f",
   "metadata": {},
   "outputs": [],
   "source": [
    "! pip install pymongo\n",
    "import requests\n",
    "from pymongo import MongoClient"
   ]
  },
  {
   "cell_type": "markdown",
   "id": "1d73fc76",
   "metadata": {},
   "source": [
    "# Load Dataset\n",
    "Load the provided JSON dataset in this url: https://randomuser.me/api/?nat=ir&results=X into a MongoDB collection. X represents the number of random users generated. You should sample around 10,000 users\n",
    "\n",
    "The dataset contains information about a sample person. Each document in the collection has the following structure:\n",
    "\n",
    "1. gender: male/female (forever;).\n",
    "2. name: consisted of title, first, and last.\n",
    "3. location: consisted of city, state, country, coordinates(latitude and longitude), timezone(offset and description), street(name and number), and postcode.\n",
    "4. email\n",
    "5. login: consisted of uuid, username, password, salt, md5, sha1, and sha256.\n",
    "6. dob (Date of Birth): consisted of date and age.\n",
    "8. registered (Date of Registration): consisted of date and age.\n",
    "9. phone: home phone number\n",
    "10. cell: cell phone number\n",
    "11. Others are not important ...\n",
    "\n",
    "You will definitely need this workshop: https://drive.google.com/drive/folders/1rRxZcTRMRi_cDWpopCkZc1dPz3zgr93d?usp=sharing"
   ]
  },
  {
   "cell_type": "code",
   "execution_count": null,
   "id": "dbf918df",
   "metadata": {},
   "outputs": [],
   "source": []
  },
  {
   "cell_type": "markdown",
   "id": "0f18e4a5",
   "metadata": {},
   "source": [
    "# Data Analysis\n",
    "Explore the loaded data, explore the fields for a sample user object. Also show the total number of random users."
   ]
  },
  {
   "cell_type": "code",
   "execution_count": null,
   "id": "c83e27bc",
   "metadata": {},
   "outputs": [],
   "source": []
  },
  {
   "cell_type": "markdown",
   "id": "1722df46",
   "metadata": {},
   "source": [
    "# Query the Database\n",
    "For each of the following tasks, report the run time of the query in addition to its result"
   ]
  },
  {
   "cell_type": "markdown",
   "id": "8ad5ad3d",
   "metadata": {},
   "source": [
    "#### 1. Calculate the number of people registered in less than 10 years (from now) and aged more than 40 years"
   ]
  },
  {
   "cell_type": "code",
   "execution_count": null,
   "id": "3737d0d5",
   "metadata": {},
   "outputs": [],
   "source": []
  },
  {
   "cell_type": "markdown",
   "id": "a49ac5e9",
   "metadata": {},
   "source": [
    "#### 2. Calculate the number of people registered in the same month of their date of birth"
   ]
  },
  {
   "cell_type": "code",
   "execution_count": null,
   "id": "221bc4d2",
   "metadata": {},
   "outputs": [],
   "source": []
  },
  {
   "cell_type": "markdown",
   "id": "30c73cd3",
   "metadata": {},
   "source": [
    "#### 3. Calculate the number of people that their postcode and their street number are either both odd or both even."
   ]
  },
  {
   "cell_type": "code",
   "execution_count": null,
   "id": "349e0e88",
   "metadata": {},
   "outputs": [],
   "source": []
  },
  {
   "cell_type": "markdown",
   "id": "c85aa407",
   "metadata": {},
   "source": [
    "#### 4. Calculate the number of people that their coordinates's longitude has a higher absolute value than their coordinate's latitude"
   ]
  },
  {
   "cell_type": "code",
   "execution_count": null,
   "id": "5effe287",
   "metadata": {},
   "outputs": [],
   "source": []
  },
  {
   "cell_type": "markdown",
   "id": "917d68f2",
   "metadata": {},
   "source": [
    "#### 5. List the female users living in Tehran with their username containing \"wolf\" or \"bear\""
   ]
  },
  {
   "cell_type": "code",
   "execution_count": null,
   "id": "5b7a7087",
   "metadata": {},
   "outputs": [],
   "source": []
  },
  {
   "cell_type": "markdown",
   "id": "adef7a82",
   "metadata": {},
   "source": [
    "#### 6. Check which city has the highest number of users and which has the lowest number"
   ]
  },
  {
   "cell_type": "code",
   "execution_count": null,
   "id": "519c7d57",
   "metadata": {},
   "outputs": [],
   "source": []
  },
  {
   "cell_type": "markdown",
   "id": "b83b69c0",
   "metadata": {},
   "source": [
    "#### 7. Calculate the number of users born in each decade (from 1920 to 1990)"
   ]
  },
  {
   "cell_type": "code",
   "execution_count": null,
   "id": "dceda2ae",
   "metadata": {},
   "outputs": [],
   "source": []
  },
  {
   "cell_type": "markdown",
   "id": "d9ecaf53",
   "metadata": {},
   "source": [
    "#### 8. Show the full name (first name + last name) for each user, sorted by last name"
   ]
  },
  {
   "cell_type": "code",
   "execution_count": null,
   "id": "5da498e2",
   "metadata": {},
   "outputs": [],
   "source": []
  },
  {
   "cell_type": "markdown",
   "id": "b13d922c",
   "metadata": {},
   "source": [
    "#### 9. Show the users that their first name is consisted of more than one word. For example Amir hossein"
   ]
  },
  {
   "cell_type": "code",
   "execution_count": null,
   "id": "cf7cbfcc",
   "metadata": {},
   "outputs": [],
   "source": []
  },
  {
   "cell_type": "markdown",
   "id": "d18245da",
   "metadata": {},
   "source": [
    "#### 10. If we divide users into these three groups (Children: 3-16, Young Adults: 17-30, Middle-Aged Adults: 30-60, Old Adults: 60 or more) list the age-group and city of all male users living in a timezone with its offset more than +6 or less than -9"
   ]
  },
  {
   "cell_type": "code",
   "execution_count": null,
   "id": "c183b9ab",
   "metadata": {},
   "outputs": [],
   "source": []
  }
 ],
 "metadata": {
  "kernelspec": {
   "display_name": "Python 3 (ipykernel)",
   "language": "python",
   "name": "python3"
  },
  "language_info": {
   "codemirror_mode": {
    "name": "ipython",
    "version": 3
   },
   "file_extension": ".py",
   "mimetype": "text/x-python",
   "name": "python",
   "nbconvert_exporter": "python",
   "pygments_lexer": "ipython3",
   "version": "3.10.9"
  }
 },
 "nbformat": 4,
 "nbformat_minor": 5
}
